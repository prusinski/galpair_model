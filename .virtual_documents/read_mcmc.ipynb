%matplotlib inline
import numpy as np
from astropy import units as u, constants as c
import matplotlib.pyplot as plt
from astropy.cosmology import Planck18 as cosmo
import matplotlib
from astropy.convolution import convolve, Gaussian2DKernel
from scipy.optimize import fsolve, fmin
from astropy.io import fits
import scipy.interpolate as interp
import emcee
import corner
from multiprocessing import Pool
import multiprocessing as mp
mp.cpu_count()


# filename = "tutorial_25w_1500it.h5" #"tutorial_10w_1500it.h5"
filename = "MCMC_outputs/trimmed_60w_7500it_250304-both.h5" #"tutorial_10w_1500it.h5"
# nwalkers = 10
# niter = 500
# initial = np.array([603, 0.3, 0.17])
ndims = 6 #6 #len(initial)
reader = emcee.backends.HDFBackend(filename)
samples = reader.get_chain()
# print(samples[0,:,:])


fig, axes = plt.subplots(6, figsize=(10, 7), sharex=True)
# samples = sampler.get_chain()
labels_tex = ["$v_1$", "$v_\mathrm{offset}$", "$\\alpha_\\mathrm{0,\,out}$", "$\\alpha_\mathrm{0,\,in}$", "$\\gamma_\mathrm{out}$", "$\\gamma_\mathrm{in}$"]
labels = ['vmax', 'voffset', 'alpha_out', 'alpha_in', 'gout', 'gin']
# labels = ["vmin", "alpha_in", "gin"]
for i in range(ndims):
    ax = axes[i]
    ax.plot(samples[:, :, i], "k", alpha=0.3)
    ax.set_xlim(0, len(samples))
    ax.set_ylabel(labels_tex[i])
    ax.yaxis.set_label_coords(-0.1, 0.5)

axes[-1].set_xlabel("step number")
plt.show()


tau = reader.get_autocorr_time(quiet=True)
print(tau)
burnin = int(2 * np.max(tau))
thin = int(0.5 * np.min(tau))
samples = reader.get_chain(discard=burnin, flat=True, thin=thin)
# samples = reader.get_chain(flat=True)


fig = corner.corner(
    samples, labels=labels_tex, quantiles=[0.16, 0.5, 0.84], show_titles=True, title_kwargs={"fontsize": 12}, #truths=initial
);
plt.show()
# plt.savefig('out+in_corner_240728.pdf')





flat_samples = reader.get_chain(flat=True) # discard=100, thin=15, flat=True
print(np.median(flat_samples[:,0]))
print(np.mean(flat_samples[:,0]))

hi = plt.hist(flat_samples[:,0], fill=None, bins=300)
print(hi[1][np.argmax(hi[0])])
plt.show()



# Out to Table


# filename = "tutorial_25w_1500it.h5" #"tutorial_10w_1500it.h5"
inout_fn = "MCMC_outputs/trimmed_60w_7500it_250303-both.h5" #"tutorial_10w_1500it.h5"
inout_samp = emcee.backends.HDFBackend(inout_fn).get_chain(flat=True)

out_fn = "MCMC_outputs/trimmed_outonly_30w_6000it_250304.h5"
out_samp = emcee.backends.HDFBackend(out_fn).get_chain(flat=True)



labels_samp_inout = {"$v_1$ (km s$^{-1}$)":0, "$v_c$ (km s$^{-1}$)":1, "$\\tau_\mathrm{0,\,out}$":2, "$\\tau_\mathrm{0,\,c}$":3, "$\\gamma_\mathrm{out}$":4, "$\\gamma_c$":5}
labels_samp_out = {"$v_1$ (km s$^{-1}$)":0, "$\\tau_\mathrm{0,\,out}$":1, "$\\gamma_\mathrm{out}$":2}
labels_tab = ["$v_1$ (km s$^{-1}$)", "$\\tau_\mathrm{0,\,out}$", "$\\gamma_\mathrm{out}$", "$v_c$ (km s$^{-1}$)", "$\\tau_\mathrm{0,\,c}$", "$\\gamma_c$"] 
for li, l in enumerate(labels_tab):
    # print(l)
    ind_inout = labels_samp_inout[l]
    med_inout = np.median(inout_samp[:,ind_inout])
    lb_inout = np.quantile(inout_samp[:,ind_inout],0.16) - med_inout
    ub_inout = np.quantile(inout_samp[:,ind_inout],0.84) - med_inout

    # lb_inout *= np.sqrt(6)
    # ub_inout *= np.sqrt(6) # 30 kpc bins but 5 kpc sampling
    
    if li < 3:
        #outflow components, need both datasets
        ind_out = labels_samp_out[l]
        med_out = np.median(out_samp[:,ind_out])
        lb_out = np.quantile(out_samp[:,ind_out],0.16) - med_out
        ub_out = np.quantile(out_samp[:,ind_out],0.84) - med_out

        lb_out *= np.sqrt(6)
        ub_out *= np.sqrt(6) # 30 kpc bins but 5 kpc sampling
        
        if l == '$v_1$ (km s$^{-1}$)':
            print(f'Outflow & {l} & ${med_inout:.2f}\,^{{+{ub_inout:.2f}}}_{{{lb_inout:.2f}}}$ & ${med_out:.2f}\,^{{+{ub_out:.2f}}}_{{{lb_out:.2f}}}$ \\\\')
        else:
            print(f"& {l} & ${med_inout:.2f}\,^{{+{ub_inout:.2f}}}_{{{lb_inout:.2f}}}$ & ${med_out:.2f}\,^{{+{ub_out:.2f}}}_{{{lb_out:.2f}}}$ \\\\")
    else:
        # inflow components
        if l == "$v_c$ (km s$^{-1}$)":
            print(f'Inflow & {l} & ${med_inout:.2f}\,^{{+{ub_inout:.2f}}}_{{{lb_inout:.2f}}}$ & . \\nodata \\\\')
        else:
            print(f"& {l} & ${med_inout:.2f}\,^{{+{ub_inout:.2f}}}_{{{lb_inout:.2f}}}$ & . \\nodata \\\\")


labels_tab











# filename = "tutorial_25w_1500it.h5" #"tutorial_10w_1500it.h5"
# filename = "MCMC_outputs/trimmed_60w_7500it_250303-inflow.h5" #"tutorial_10w_1500it.h5"
filename = "MCMC_outputs/trimmed_outonly_30w_6000it_250304.h5"
# nwalkers = 10
# niter = 500
# initial = np.array([603, 0.3, 0.17])
ndims = 3 #6 #len(initial)
reader = emcee.backends.HDFBackend(filename)
samples = reader.get_chain(flat=False)
samplesflat = reader.get_chain(flat=True)
# print(samples[0,:,:])


fig, axes = plt.subplots(3, figsize=(10, 7), sharex=True)
# samples = sampler.get_chain()
# labels = ["vmax", "vmin", "alpha_out", "alpha_in", "gout", "gin"]
labels = ["vmax", "alpha_out", "gout"]
for i in range(ndims):
    ax = axes[i]
    ax.plot(samples[:, :, i], "k", alpha=0.3)
    ax.set_xlim(0, len(samples))
    ax.set_ylabel(labels[i])
    ax.yaxis.set_label_coords(-0.1, 0.5)

axes[-1].set_xlabel("step number");
plt.show()


fig = corner.corner(
    samplesflat, labels=labels, quantiles=[0.16, 0.5, 0.84], show_titles=True, title_kwargs={"fontsize": 12}, #truths=initial
);
plt.show()





thtest = (603, 0.3, 0.17)
lnlike(thtest)


thtest = (603, 0.3, 0.17) #vout, vin, aout, ain, gout, gin
lya_model = model(thtest) 

vmi, vma = -0.07, 0.97

fig, ax = plt.subplots(1,3, figsize = (14,6), sharex=True, sharey=True)
re = ax[0].imshow(lya_real, aspect='auto', origin='lower', 
                  extent = [bvec_final.min(), bvec_final.max(), vvec_final.min(), vvec_final.max()], vmin = vmi, vmax = vma)
fig.colorbar(re, ax=ax[0])
ax[0].set_title('Lya Real')

mod = ax[1].imshow(lya_model, aspect='auto', origin='lower', 
                   extent = [bvec_final.min(), bvec_final.max(), vvec_final.min(), vvec_final.max()], vmin = vmi, vmax = vma)
fig.colorbar(mod, ax=ax[1])
ax[1].set_title('Lya Model')

diff = ax[2].imshow(lya_real - lya_model, aspect='auto', origin='lower',
                    extent = [bvec_final.min(), bvec_final.max(), vvec_final.min(), vvec_final.max()], cmap='Spectral')
fig.colorbar(diff, ax=ax[2])
ax[2].set_title('Lya Real - Lya Model')
fig.tight_layout()
plt.show()









